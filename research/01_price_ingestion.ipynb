{
 "cells": [
  {
   "cell_type": "code",
   "execution_count": 1,
   "metadata": {},
   "outputs": [
    {
     "data": {
      "text/plain": [
       "'/home/izam/coding/TradePilot'"
      ]
     },
     "execution_count": 1,
     "metadata": {},
     "output_type": "execute_result"
    }
   ],
   "source": [
    "import os\n",
    "os.chdir(\"../\")\n",
    "os.getcwd()"
   ]
  },
  {
   "cell_type": "code",
   "execution_count": 2,
   "metadata": {},
   "outputs": [],
   "source": [
    "from dataclasses import dataclass\n",
    "from pathlib import Path\n",
    "\n",
    "@dataclass(frozen=True)\n",
    "class PriceDataIngestionConfig:\n",
    "    root_dir: Path\n",
    "    data_dir: str\n",
    "    companies: dict\n",
    "    date_start: str\n",
    "    date_end: str\n",
    "    period: str"
   ]
  },
  {
   "cell_type": "code",
   "execution_count": 3,
   "metadata": {},
   "outputs": [],
   "source": [
    "from TradePilot.constants import *\n",
    "from TradePilot.utils.common import create_directories, read_yaml"
   ]
  },
  {
   "cell_type": "code",
   "execution_count": 4,
   "metadata": {},
   "outputs": [],
   "source": [
    "\n",
    "class ConfigurationManager:\n",
    "    def __init__(\n",
    "        self,\n",
    "        config_filepath = CONFIG_FILE_PATH,\n",
    "        price_data_config_filepath = PRICE_DATA_CONFIG_FILE_PATH,\n",
    "        params_filepath = PARAMS_FILE_PATH,\n",
    "        schema_filepath = SCHEMA_FILE_PATH,\n",
    "        ):\n",
    "\n",
    "        self.config = read_yaml(config_filepath)\n",
    "        self.data_config = read_yaml(price_data_config_filepath)\n",
    "        self.params = read_yaml(params_filepath)\n",
    "        self.schema = read_yaml(schema_filepath)\n",
    "\n",
    "        create_directories([self.config.artifacts_root])\n",
    "\n",
    "\n",
    "    \n",
    "    def get_price_data_ingestion_config(self) -> PriceDataIngestionConfig:\n",
    "        config = self.config.price_ingestion\n",
    "        companies = self.data_config.Companies\n",
    "        data_properties = self.data_config.DataFrame\n",
    "\n",
    "        create_directories([config.root_dir])\n",
    "\n",
    "        price_data_ingestion_config = PriceDataIngestionConfig(\n",
    "            root_dir=config.root_dir,\n",
    "            data_dir=config.data_dir,\n",
    "            companies=companies,\n",
    "            date_start=data_properties.start,\n",
    "            date_end=data_properties.end,\n",
    "            period=data_properties.period,\n",
    "        )\n",
    "\n",
    "        return price_data_ingestion_config"
   ]
  },
  {
   "cell_type": "code",
   "execution_count": 5,
   "metadata": {},
   "outputs": [],
   "source": [
    "import yfinance as yf\n",
    "import pandas as pd\n",
    "import matplotlib.pyplot as plt\n",
    "from datetime import date\n",
    "import numpy as np"
   ]
  },
  {
   "cell_type": "code",
   "execution_count": 6,
   "metadata": {},
   "outputs": [],
   "source": [
    "from TradePilot import logger\n",
    "from TradePilot.utils.common import create_directories, save_json"
   ]
  },
  {
   "cell_type": "code",
   "execution_count": 7,
   "metadata": {},
   "outputs": [],
   "source": [
    "# component\n",
    "\n",
    "class PriceDataIngestion:\n",
    "    def __init__(self, config: PriceDataIngestionConfig) -> None:\n",
    "        self.config = config\n",
    "\n",
    "    def download_data(self):\n",
    "        data_dir = os.path.join(self.config.root_dir, self.config.data_dir)\n",
    "        create_directories([data_dir])\n",
    "\n",
    "        companies = self.config.companies\n",
    "        start_date = self.config.date_start\n",
    "        end_date = self.config.date_end\n",
    "        period = self.config.period\n",
    "        df_rows = {}\n",
    "\n",
    "        for company, ticker in companies.items():\n",
    "            data = yf.download(tickers=ticker, start=start_date, end=end_date, period=period)\n",
    "            df_rows[company] = data.shape[0]\n",
    "            \n",
    "            if df_rows[company]:\n",
    "                logger.info(f\"downloaded the data of the company {company} with {df_rows[company]} data points\")\n",
    "            else:\n",
    "                logger.info(f\"failed to fetch the data of the company {company}\")\n",
    "\n",
    "            file_name = os.path.join(data_dir, f\"{company}.csv\")\n",
    "            data.to_csv(file_name)\n",
    "            \n",
    "            logger.info(f\"saved the file {file_name}\")\n",
    "\n",
    "        json_file_path = os.path.join(self.config.root_dir, \"data_info.json\")\n",
    "        save_json(path=json_file_path, data=df_rows)"
   ]
  },
  {
   "cell_type": "code",
   "execution_count": 8,
   "metadata": {},
   "outputs": [
    {
     "name": "stdout",
     "output_type": "stream",
     "text": [
      "[2024-01-06 19:36:24,630: INFO: common: yaml file: config/config.yaml loaded successfully]\n",
      "[2024-01-06 19:36:24,633: INFO: common: yaml file: config/price_data_config.yaml loaded successfully]\n",
      "[2024-01-06 19:36:24,633: INFO: common: yaml file: params.yaml loaded successfully]\n",
      "[2024-01-06 19:36:24,634: INFO: common: yaml file: schema.yaml loaded successfully]\n",
      "[2024-01-06 19:36:24,635: INFO: common: created directory at: artifacts]\n",
      "[2024-01-06 19:36:24,635: INFO: common: created directory at: artifacts/data_ingestion]\n",
      "[2024-01-06 19:36:24,636: INFO: common: created directory at: artifacts/data_ingestion/stock_prices]\n",
      "[*********************100%%**********************]  1 of 1 completed\n",
      "[2024-01-06 19:36:25,141: INFO: 2386939323: downloaded the data of the company Reliance with 6281 data points]\n",
      "[2024-01-06 19:36:25,175: INFO: 2386939323: saved the file artifacts/data_ingestion/stock_prices/Reliance.csv]\n",
      "[2024-01-06 19:36:25,175: INFO: common: json file saved at: artifacts/data_ingestion/data_info.json]\n"
     ]
    }
   ],
   "source": [
    "try:\n",
    "    config = ConfigurationManager()\n",
    "    price_data_ingestion_config = config.get_price_data_ingestion_config()\n",
    "    price_data_ingestion = PriceDataIngestion(config=price_data_ingestion_config)\n",
    "    price_data_ingestion.download_data()\n",
    "except Exception as e:\n",
    "    raise e"
   ]
  }
 ],
 "metadata": {
  "kernelspec": {
   "display_name": "trade",
   "language": "python",
   "name": "python3"
  },
  "language_info": {
   "codemirror_mode": {
    "name": "ipython",
    "version": 3
   },
   "file_extension": ".py",
   "mimetype": "text/x-python",
   "name": "python",
   "nbconvert_exporter": "python",
   "pygments_lexer": "ipython3",
   "version": "3.11.5"
  }
 },
 "nbformat": 4,
 "nbformat_minor": 2
}
